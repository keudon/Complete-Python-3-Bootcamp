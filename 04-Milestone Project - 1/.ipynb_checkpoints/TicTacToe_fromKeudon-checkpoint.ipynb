{
 "cells": [
  {
   "cell_type": "code",
   "execution_count": null,
   "metadata": {},
   "outputs": [],
   "source": [
    "# 1. selection of X or O for Player1\n",
    "# 2. display board\n",
    "# 3. take Player1 input\n",
    "# 4. Check if there is a winner\n",
    "# 4. display board\n",
    "# 5. take Player2 input\n",
    "# 6. and so on..."
   ]
  },
  {
   "cell_type": "code",
   "execution_count": 2,
   "metadata": {},
   "outputs": [],
   "source": [
    "from IPython.display import clear_output"
   ]
  },
  {
   "cell_type": "code",
   "execution_count": null,
   "metadata": {},
   "outputs": [],
   "source": [
    "def display_board(board_list):\n",
    "    '''\n",
    "    board_list : list of 9 strings\n",
    "    '''\n",
    "    clear_output()\n",
    "    for (index,t_str) in enumerate(board_list):\n",
    "        if t_str not in ['X','O']:\n",
    "            board_list[index] = ' '\n",
    "    \n",
    "    print(' {0} | {1} | {2} '.format(board_list[6],board_list[7],board_list[8]))\n",
    "    print(' {0} | {1} | {2} '.format(board_list[3],board_list[4],board_list[5]))\n",
    "    print(' {0} | {1} | {2} '.format(board_list[0],board_list[1],board_list[2]))"
   ]
  },
  {
   "cell_type": "code",
   "execution_count": null,
   "metadata": {},
   "outputs": [],
   "source": [
    "def init_game():\n",
    "    def print_welcome():\n",
    "        print('Welcome in Tic-Tac-Toe!')\n",
    "        print('')\n",
    "        print('Player1 : pick your side O or X ?')\n",
    "    print_welcome()\n",
    "    user_input = input().upper()\n",
    "    while user_input not in ['O','X']:\n",
    "        clear_output()\n",
    "        print_welcome()\n",
    "        print('Side not recognized. Try again.')\n",
    "        user_input = input().upper()\n",
    "    else:\n",
    "        clear_output()\n",
    "        print_welcome()\n",
    "        print('Player1 is '+user_input)\n",
    "    \n",
    "    player1_side = user_input\n",
    "    if player1_side == 'X':\n",
    "        player2_side = 'O'\n",
    "    else:\n",
    "        player2_side = 'X'\n",
    "    \n",
    "    return {'player1':player1_side,'player2':player2_side}"
   ]
  },
  {
   "cell_type": "code",
   "execution_count": 1,
   "metadata": {},
   "outputs": [],
   "source": [
    "def take_input(id_player,dic,current_board):\n",
    "    def print_take_input():\n",
    "        clear_output()    \n",
    "        print('Player {} : your turn !'.format(id_player))        \n",
    "    \n",
    "    def check_format_input(user_input):\n",
    "        while user_input not in '123456789':\n",
    "            print_take_input()\n",
    "            print('input not recognized. Try again.')\n",
    "            user_input = input()\n",
    "        else:\n",
    "            return int(user_input)\n",
    "    \n",
    "    input_ok = False\n",
    "    \n",
    "    print_take_input()\n",
    "    \n",
    "    while not input_ok:\n",
    "        \n",
    "        user_input = input()\n",
    "        \n",
    "        user_formated_input = check_format_input(user_input)\n",
    "        \n",
    "        if current_board[user_formated_input-1] != '':\n",
    "            print_take_input()\n",
    "            print('Case already filled. Try again.')            \n",
    "        else:\n",
    "            input_ok = True\n",
    "        \n",
    "    return user_formated_input"
   ]
  },
  {
   "cell_type": "code",
   "execution_count": null,
   "metadata": {},
   "outputs": [],
   "source": [
    "def check_win():\n",
    "    win = False\n",
    "    id_player = 1\n",
    "    return (win,'Player'+id_player)"
   ]
  },
  {
   "cell_type": "code",
   "execution_count": 3,
   "metadata": {},
   "outputs": [
    {
     "name": "stdout",
     "output_type": "stream",
     "text": [
      "Player 1 : your turn !\n",
      "Case already filled. Try again.\n",
      "2\n"
     ]
    }
   ],
   "source": [
    "current_board = ['O','','','','','','','',''] \n",
    "dic = {'player1':'X','player2':'O'}\n",
    "id_player = 1\n",
    "toto = take_input(id_player,dic,current_board)"
   ]
  },
  {
   "cell_type": "code",
   "execution_count": null,
   "metadata": {},
   "outputs": [],
   "source": []
  },
  {
   "cell_type": "code",
   "execution_count": null,
   "metadata": {},
   "outputs": [],
   "source": [
    "def end_game():\n",
    "    pass"
   ]
  },
  {
   "cell_type": "code",
   "execution_count": null,
   "metadata": {},
   "outputs": [],
   "source": [
    "def main_tictactoe():\n",
    "    \n",
    "    # initialization of players sides\n",
    "    dic_sides = init_game()\n",
    "    \n",
    "    # initialization of variables\n",
    "    current_board = ['','','','','','','','',''] # empty board\n",
    "    player2play = 1 # Player1 always starts\n",
    "    win_states = [False,'1','2','draw'] # [no winner , Player1 win , Player2 win, Draw]\n",
    "    win_index = 0 # No winner at the beginning\n",
    "    \n",
    "    while is_win != True:\n",
    "        case_input = take_input(player2play,dic_sides)\n",
    "        display_board(current_board):\n",
    "        \n",
    "        "
   ]
  }
 ],
 "metadata": {
  "kernelspec": {
   "display_name": "Python 3",
   "language": "python",
   "name": "python3"
  },
  "language_info": {
   "codemirror_mode": {
    "name": "ipython",
    "version": 3
   },
   "file_extension": ".py",
   "mimetype": "text/x-python",
   "name": "python",
   "nbconvert_exporter": "python",
   "pygments_lexer": "ipython3",
   "version": "3.7.6"
  }
 },
 "nbformat": 4,
 "nbformat_minor": 4
}
