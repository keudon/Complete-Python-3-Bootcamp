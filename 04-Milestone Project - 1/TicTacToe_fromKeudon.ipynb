{
 "cells": [
  {
   "cell_type": "code",
   "execution_count": 1,
   "metadata": {},
   "outputs": [],
   "source": [
    "# 1. selection of X or O for Player1\n",
    "# 2. display board\n",
    "# 3. take Player1 input\n",
    "# 4. Check if there is a winner\n",
    "# 4. display board\n",
    "# 5. take Player2 input\n",
    "# 6. and so on..."
   ]
  },
  {
   "cell_type": "code",
   "execution_count": 2,
   "metadata": {},
   "outputs": [],
   "source": [
    "from IPython.display import clear_output"
   ]
  },
  {
   "cell_type": "code",
   "execution_count": 3,
   "metadata": {},
   "outputs": [],
   "source": [
    "def display_board(board_list):\n",
    "    '''\n",
    "    board_list : list of 9 strings\n",
    "    '''\n",
    "    clear_output()\n",
    "    for (index,t_str) in enumerate(board_list):\n",
    "        if t_str not in ['X','O']:\n",
    "            board_list[index] = ' '\n",
    "    \n",
    "    print(' {0} | {1} | {2} '.format(board_list[6],board_list[7],board_list[8]))\n",
    "    print(' {0} | {1} | {2} '.format(board_list[3],board_list[4],board_list[5]))\n",
    "    print(' {0} | {1} | {2} '.format(board_list[0],board_list[1],board_list[2]))"
   ]
  },
  {
   "cell_type": "code",
   "execution_count": 4,
   "metadata": {},
   "outputs": [],
   "source": [
    "def init_game():\n",
    "    \n",
    "    def print_init_game():\n",
    "        clear_output()\n",
    "        print('Welcome in Tic-Tac-Toe!')\n",
    "        print('')\n",
    "        print('Player1 : pick your side O or X ?')\n",
    "        \n",
    "    print_init_game()\n",
    "    user_input = input().upper()\n",
    "    \n",
    "    while user_input not in ['O','X']:        \n",
    "        print_init_game()\n",
    "        print('Side not recognized. Try again.')\n",
    "        user_input = input().upper()\n",
    "    else:\n",
    "        print_init_game()\n",
    "        print('Player1 is '+user_input)\n",
    "    \n",
    "    player1_side = user_input\n",
    "    if player1_side == 'X':\n",
    "        player2_side = 'O'\n",
    "    else:\n",
    "        player2_side = 'X'\n",
    "    \n",
    "    return {'player1':player1_side,'player2':player2_side}"
   ]
  },
  {
   "cell_type": "code",
   "execution_count": 5,
   "metadata": {},
   "outputs": [],
   "source": [
    "def take_input(current_player,current_board):\n",
    "    \n",
    "    def print_take_input():\n",
    "        clear_output()\n",
    "        display_board(current_board)\n",
    "        print('{} : your turn !'.format(current_player.capitalize()))        \n",
    "    \n",
    "    def check_format_input(user_input):\n",
    "        while user_input not in '123456789':\n",
    "            print_take_input()\n",
    "            print('input not recognized. Try again.')\n",
    "            user_input = input()\n",
    "        else:\n",
    "            return int(user_input)\n",
    "    \n",
    "    input_ok = False\n",
    "    \n",
    "    print_take_input()\n",
    "    \n",
    "    while not input_ok:\n",
    "        \n",
    "        user_input = input()\n",
    "        \n",
    "        user_formated_input = check_format_input(user_input)\n",
    "        \n",
    "        if current_board[user_formated_input-1] in ['X','O']:\n",
    "            print_take_input()\n",
    "            print('Case already filled. Try again.')            \n",
    "        else:\n",
    "            input_ok = True\n",
    "        \n",
    "    return user_formated_input"
   ]
  },
  {
   "cell_type": "code",
   "execution_count": 6,
   "metadata": {},
   "outputs": [],
   "source": [
    "def check_win(current_board,dic):\n",
    "    \n",
    "    def get_player(side,dic):\n",
    "        for (player_number,player_side) in dic.items():\n",
    "            if player_side == side:\n",
    "                return player_number            \n",
    "    \n",
    "    game_state = 'running'\n",
    "    \n",
    "    for side in ['X','O']:\n",
    "        # check the rows\n",
    "        for row in [0,3,6]:\n",
    "            if current_board[row] == current_board[row+1] == current_board[row+2] == side:\n",
    "                game_state = get_player(side,dic)\n",
    "            \n",
    "        # check the columns\n",
    "        for col in [0,1,2]:\n",
    "            if current_board[col] == current_board[col+3] == current_board[col+6] == side:\n",
    "                game_state = get_player(side,dic)\n",
    "                    \n",
    "        # check the diagonals\n",
    "        if (current_board[0] == current_board[4] == current_board[8] == side or\n",
    "            current_board[6] == current_board[4] == current_board[2] == side):\n",
    "            game_state = get_player(side,dic)\n",
    "        \n",
    "    # finally, if the game is still running, but all cases are full, it's a tie\n",
    "    if game_state == 'running' and (current_board.count('X')+current_board.count('O')) == 9:\n",
    "        game_state = 'tie'    \n",
    "\n",
    "    return game_state"
   ]
  },
  {
   "cell_type": "code",
   "execution_count": null,
   "metadata": {},
   "outputs": [],
   "source": []
  },
  {
   "cell_type": "code",
   "execution_count": null,
   "metadata": {},
   "outputs": [],
   "source": []
  },
  {
   "cell_type": "code",
   "execution_count": 10,
   "metadata": {},
   "outputs": [],
   "source": [
    "def end_game(game_state):\n",
    "    if game_state.lower() == 'tie':\n",
    "        print('It''s a tie !')\n",
    "    else:\n",
    "        print('{} has won !'.format(game_state.capitalize()))\n",
    "    "
   ]
  },
  {
   "cell_type": "code",
   "execution_count": 11,
   "metadata": {},
   "outputs": [],
   "source": [
    "def main_tictactoe():\n",
    "    \n",
    "    # initialization of players sides\n",
    "    dic_sides = init_game()\n",
    "    \n",
    "    # initialization of variables\n",
    "    current_board = ['','','','','','','','',''] # empty board\n",
    "    current_player= 'player1' # Player1 always starts\n",
    "    # game_states    = ['running','player1','player2','tie']\n",
    "    # [game running (=no winner) , Player1 win , Player2 win, Tie]\n",
    "    game_state     = 'running'\n",
    "    \n",
    "    # as long as the game is running\n",
    "    while game_state == 'running':\n",
    "        \n",
    "        # display board\n",
    "        display_board(current_board)\n",
    "        \n",
    "        # take input of the current player\n",
    "        case_input = take_input(current_player,current_board)\n",
    "        \n",
    "        # update the board\n",
    "        current_board[case_input-1] = dic_sides[current_player][0]        \n",
    "        \n",
    "        # check is there is a winner\n",
    "        game_state = check_win(current_board,dic_sides)\n",
    "        \n",
    "        # change player\n",
    "        if current_player == 'player1':\n",
    "            current_player = 'player2'\n",
    "        else:\n",
    "            current_player = 'player1'\n",
    "    \n",
    "    else:\n",
    "        display_board(current_board)\n",
    "        end_game(game_state)\n",
    "        "
   ]
  },
  {
   "cell_type": "code",
   "execution_count": null,
   "metadata": {},
   "outputs": [],
   "source": []
  },
  {
   "cell_type": "code",
   "execution_count": null,
   "metadata": {},
   "outputs": [],
   "source": []
  },
  {
   "cell_type": "code",
   "execution_count": null,
   "metadata": {},
   "outputs": [],
   "source": []
  },
  {
   "cell_type": "code",
   "execution_count": null,
   "metadata": {},
   "outputs": [],
   "source": []
  }
 ],
 "metadata": {
  "kernelspec": {
   "display_name": "Python 3",
   "language": "python",
   "name": "python3"
  },
  "language_info": {
   "codemirror_mode": {
    "name": "ipython",
    "version": 3
   },
   "file_extension": ".py",
   "mimetype": "text/x-python",
   "name": "python",
   "nbconvert_exporter": "python",
   "pygments_lexer": "ipython3",
   "version": "3.7.6"
  }
 },
 "nbformat": 4,
 "nbformat_minor": 4
}
