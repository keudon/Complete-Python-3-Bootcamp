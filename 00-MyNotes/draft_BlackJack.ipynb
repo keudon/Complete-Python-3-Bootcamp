{
 "cells": [
  {
   "cell_type": "code",
   "execution_count": 1,
   "metadata": {},
   "outputs": [],
   "source": [
    "# Objectif : créer un jeux Black Jack"
   ]
  },
  {
   "cell_type": "code",
   "execution_count": 2,
   "metadata": {},
   "outputs": [],
   "source": [
    "# CLASSES"
   ]
  },
  {
   "cell_type": "code",
   "execution_count": 3,
   "metadata": {},
   "outputs": [],
   "source": [
    "# PlayerBank: pour pouvoir créditer ou débiter son compte en fonction de ses victoires/défaites\n",
    "# méthodes:\n",
    "# > .add()\n",
    "# > .bet()"
   ]
  },
  {
   "cell_type": "code",
   "execution_count": 4,
   "metadata": {},
   "outputs": [],
   "source": [
    "# PlayerHand : pour pouvoir faire 'Hit' ou 'Stay'\n",
    "# > .hit()\n",
    "# > .stay()"
   ]
  },
  {
   "cell_type": "code",
   "execution_count": 5,
   "metadata": {},
   "outputs": [],
   "source": [
    "# DealerHand : pour pouvoir gérer les actions du dealer (une seule possible en fait):\n",
    "# > .hit()"
   ]
  },
  {
   "cell_type": "code",
   "execution_count": 6,
   "metadata": {},
   "outputs": [],
   "source": [
    "# Deck : pour pouvoir gérer les cartes du deck, celles qui sont distribuées. Gérer l'affichage en fait.\n",
    "# > .display()\n",
    "# > .clean()"
   ]
  },
  {
   "cell_type": "code",
   "execution_count": null,
   "metadata": {},
   "outputs": [],
   "source": [
    "# Game : pour pouvoir gérer les différentes actions du jeu :\n",
    "# > .restart()\n",
    "# > .check_winner()\n",
    "# > .replay()"
   ]
  }
 ],
 "metadata": {
  "kernelspec": {
   "display_name": "Python 3",
   "language": "python",
   "name": "python3"
  },
  "language_info": {
   "codemirror_mode": {
    "name": "ipython",
    "version": 3
   },
   "file_extension": ".py",
   "mimetype": "text/x-python",
   "name": "python",
   "nbconvert_exporter": "python",
   "pygments_lexer": "ipython3",
   "version": "3.7.6"
  }
 },
 "nbformat": 4,
 "nbformat_minor": 4
}
