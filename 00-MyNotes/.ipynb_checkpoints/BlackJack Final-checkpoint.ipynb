{
 "cells": [
  {
   "cell_type": "code",
   "execution_count": 1,
   "metadata": {},
   "outputs": [],
   "source": [
    "# Objectif : créer un jeux Black Jack"
   ]
  },
  {
   "cell_type": "code",
   "execution_count": 2,
   "metadata": {},
   "outputs": [],
   "source": [
    "# CLASSES"
   ]
  },
  {
   "cell_type": "code",
   "execution_count": 3,
   "metadata": {},
   "outputs": [],
   "source": [
    "# Player: \n",
    "# atributs :\n",
    "# > cartes\n",
    "# > argent\n",
    "\n",
    "# méthodes :\n",
    "# pour pouvoir créditer ou débiter son compte en fonction de ses victoires/défaites, 2 méthodes:\n",
    "# > .add()\n",
    "# > .bet()\n",
    "# pour pouvoir faire 'Hit' ou 'Stay'\n",
    "# > .hit()\n",
    "# > .stay()"
   ]
  },
  {
   "cell_type": "code",
   "execution_count": null,
   "metadata": {},
   "outputs": [],
   "source": []
  },
  {
   "cell_type": "code",
   "execution_count": 4,
   "metadata": {},
   "outputs": [],
   "source": [
    "# DealerHand : pour pouvoir gérer les actions du dealer (une seule possible en fait):\n",
    "# > .hit()"
   ]
  },
  {
   "cell_type": "code",
   "execution_count": 5,
   "metadata": {},
   "outputs": [],
   "source": [
    "# Deck : pour pouvoir gérer les cartes du deck\n",
    "# > .shuffle() : mélange les 52 cartes et les ordonne\n",
    "# > .deal() : donne la première à celui qui la demande (Player ou Dealer)"
   ]
  },
  {
   "cell_type": "code",
   "execution_count": 6,
   "metadata": {},
   "outputs": [],
   "source": [
    "# Table : pour afficher les cartes qu'il y a sur le taps (similaire à l'objet board du morpion)\n",
    "# > .display()"
   ]
  },
  {
   "cell_type": "code",
   "execution_count": 7,
   "metadata": {},
   "outputs": [],
   "source": [
    "# Card : class avec les attributs couleur et valeur"
   ]
  },
  {
   "cell_type": "code",
   "execution_count": 8,
   "metadata": {},
   "outputs": [],
   "source": [
    "# Game : pour pouvoir gérer les différentes actions du jeu :\n",
    "# > .restart()\n",
    "# > .check_winner()\n",
    "# > .replay()"
   ]
  },
  {
   "cell_type": "code",
   "execution_count": 9,
   "metadata": {},
   "outputs": [],
   "source": [
    "import random\n",
    "from IPython.display import clear_output"
   ]
  },
  {
   "cell_type": "code",
   "execution_count": null,
   "metadata": {},
   "outputs": [],
   "source": []
  },
  {
   "cell_type": "code",
   "execution_count": null,
   "metadata": {},
   "outputs": [],
   "source": []
  },
  {
   "cell_type": "code",
   "execution_count": 10,
   "metadata": {},
   "outputs": [],
   "source": [
    "Colors = {'Hearts','Spades','Clubs','Diamonds'}\n",
    "Ranks  = {'Two','Three','Four','Five','Six','Seven','Eight','Nine','Ten','Jack','Queen','King','Ace'}\n",
    "Values = {'Two':2,'Three':3,'Four':4,'Five':5,'Six':6,'Seven':7,'Eight':8,'Nine':9,'Ten':9,'Jack':10,'Queen':10, \\\n",
    "'King':10,'Queen':10,'Ace':10}"
   ]
  },
  {
   "cell_type": "code",
   "execution_count": 11,
   "metadata": {},
   "outputs": [],
   "source": [
    "class Card():\n",
    "    def __init__(self,color,rank):\n",
    "        self.color = color\n",
    "        self.rank = rank\n",
    "    \n",
    "    def __str__(self):\n",
    "            return f\"{self.rank} of {self.color}\"\n"
   ]
  },
  {
   "cell_type": "code",
   "execution_count": null,
   "metadata": {},
   "outputs": [],
   "source": []
  },
  {
   "cell_type": "code",
   "execution_count": null,
   "metadata": {},
   "outputs": [],
   "source": []
  },
  {
   "cell_type": "code",
   "execution_count": null,
   "metadata": {},
   "outputs": [],
   "source": []
  },
  {
   "cell_type": "code",
   "execution_count": null,
   "metadata": {},
   "outputs": [],
   "source": []
  },
  {
   "cell_type": "code",
   "execution_count": 12,
   "metadata": {},
   "outputs": [],
   "source": [
    "class Deck():\n",
    "    def __init__(self):\n",
    "        self.deck = [] # création liste vide\n",
    "        for new_rank in Ranks: # boucle sur les valeurs\n",
    "            for new_color in Colors: # boucle sur les couleurs\n",
    "                new_card = Card(new_color,new_rank)\n",
    "                self.deck = self.deck + [new_card] # on ajoute un objet Card dans la liste\n",
    "                #print(new_card)\n",
    "    \n",
    "    def __str__(self):\n",
    "        list_cards_in_deck = ''\n",
    "        for id_card in range(0,len(self.deck)):\n",
    "            list_cards_in_deck = list_cards_in_deck + self.deck[id_card].__str__()+'\\n'\n",
    "        return list_cards_in_deck\n",
    "    \n",
    "    def __len__(self):\n",
    "        return len(self.deck)\n",
    "            \n",
    "    def shuffle(self):\n",
    "        random.shuffle(self.deck)\n",
    "    \n",
    "    def deal(self):\n",
    "        return self.deck.pop(0)        \n",
    "                "
   ]
  },
  {
   "cell_type": "code",
   "execution_count": 13,
   "metadata": {},
   "outputs": [],
   "source": [
    "class Chips:    \n",
    "    def __init__(self):\n",
    "        self.total = int(input(\"How much would you like in Chips ?\"))  # This can be set to a default value or supplied by a user input\n",
    "        self.bet = 0\n",
    "        \n",
    "    def win_bet(self):\n",
    "        self.total += 2*self.bet\n",
    "        self.bet = 0\n",
    "        \n",
    "    def lose_bet(self):\n",
    "        self.total -= self.bet\n",
    "        self.bet = 0"
   ]
  },
  {
   "cell_type": "code",
   "execution_count": null,
   "metadata": {},
   "outputs": [],
   "source": [
    "\n",
    "    "
   ]
  },
  {
   "cell_type": "code",
   "execution_count": null,
   "metadata": {},
   "outputs": [],
   "source": []
  },
  {
   "cell_type": "code",
   "execution_count": 14,
   "metadata": {},
   "outputs": [],
   "source": [
    "class Hand():\n",
    "    def __init__(self):\n",
    "        self.cards = []\n",
    "        self.value = 0\n",
    "        self.aces  = 0\n",
    "    \n",
    "    def __str__(self):\n",
    "        list_cards = ''\n",
    "        for id_card in range(0,len(self.cards)):\n",
    "            list_cards = list_cards + self.cards[id_card].__str__()+'\\n'\n",
    "        return list_cards\n",
    "            \n",
    "    def add_card(self,card):        \n",
    "        self.cards = self.cards + [card]\n",
    "        self.value = self.value + Values[card.rank]\n",
    "        if card.rank == 'Ace':\n",
    "            self.aces += 1\n",
    "\n",
    "    def adjust_for_ace(self):\n",
    "        if self.value > 21 & self.aces > 0:\n",
    "            self.value -= 9\n",
    "            self.aces -= 1          "
   ]
  },
  {
   "cell_type": "code",
   "execution_count": 15,
   "metadata": {},
   "outputs": [],
   "source": [
    "def hit_or_stand():\n",
    "    global playing\n",
    "    \n",
    "    user_input = input(\"Would you like to Hit a card ? y/n\")\n",
    "    \n",
    "    if user_input.lower() == 'y':\n",
    "        playing = True\n",
    "    else:\n",
    "        playing = False\n",
    "    "
   ]
  },
  {
   "cell_type": "code",
   "execution_count": 16,
   "metadata": {},
   "outputs": [],
   "source": [
    "def hit(hand,deck):\n",
    "    hand.add_card(deck.deal())\n",
    "    hand.adjust_for_ace()"
   ]
  },
  {
   "cell_type": "code",
   "execution_count": 17,
   "metadata": {},
   "outputs": [],
   "source": [
    "def player_busts(player_hand):\n",
    "    if player_hand.value > 21:\n",
    "        print(\"Player BUSTS !\")\n",
    "        return True\n",
    "        \n",
    "def player_wins(player_hand,dealer_hand):\n",
    "    if player_hand.value <= 21 and dealer_hand.value < player_hand.value:\n",
    "        print(\"Player WINS !\")\n",
    "        return True\n",
    "\n",
    "def dealer_busts(dealer_hand):\n",
    "    if dealer_hand.value > 21:\n",
    "        print(\"Dealer BUSTS !\")\n",
    "        return True\n",
    "    \n",
    "def dealer_wins(player_hand,dealer_hand):\n",
    "    if dealer_hand.value <= 21 and dealer_hand.value >= player_hand.value:\n",
    "        print(\"Dealer WINS !\")\n",
    "        return True\n",
    "    \n",
    "def push(player):\n",
    "    pass"
   ]
  },
  {
   "cell_type": "code",
   "execution_count": 18,
   "metadata": {},
   "outputs": [],
   "source": [
    "def show_some(player_hand,dealer_hand):    \n",
    "    clear_output()\n",
    "    print(f\"Dealer's hand :\\n{dealer_hand.cards[0]}\\n\")\n",
    "    print(f\"Player's hand : Value = {player_hand.value}\\n{player_hand}\")\n",
    "    \n",
    "def show_all(player_hand,dealer_hand):\n",
    "    clear_output()\n",
    "    print(f\"Dealer's hand : Value = {dealer_hand.value}\\n{dealer_hand}\\n\")\n",
    "    print(f\"Player's hand : Value = {player_hand.value}\\n{player_hand}\")"
   ]
  },
  {
   "cell_type": "code",
   "execution_count": 19,
   "metadata": {},
   "outputs": [
    {
     "name": "stdout",
     "output_type": "stream",
     "text": [
      "See you soon !\n"
     ]
    }
   ],
   "source": [
    "# Print an opening statement\n",
    "clear_output\n",
    "\n",
    "print(\"Welcome to Black Jack version Keudon !\")\n",
    "\n",
    "playing = True\n",
    "\n",
    "# Set up the Player's chips\n",
    "player_chip = Chips() \n",
    "    \n",
    "deck = Deck()\n",
    "deck.shuffle()    \n",
    "        \n",
    "while True:\n",
    "    \n",
    "    # Create & shuffle the deck, deal two cards to each player   \n",
    "    player_hand = Hand()\n",
    "    hit(player_hand,deck)\n",
    "    hit(player_hand,deck)\n",
    "    \n",
    "    dealer_hand = Hand()\n",
    "    hit(dealer_hand,deck)\n",
    "    hit(dealer_hand,deck)\n",
    "    \n",
    "    # Prompt the Player for their bet\n",
    "    player_chip.bet = int(input(f'How much would you like to bet ? (current balance = {player_chip.total})'))\n",
    "        \n",
    "    while playing:  # recall this variable from our hit_or_stand function\n",
    "    \n",
    "        # Show cards (but keep one dealer card hidden)\n",
    "        show_some(player_hand,dealer_hand)   \n",
    "    \n",
    "        # Prompt for Player to Hit or Stand\n",
    "        hit_or_stand()\n",
    "        if not playing:\n",
    "            break\n",
    "        else:\n",
    "            hit(player_hand,deck)\n",
    "        \n",
    "        # Show cards (but keep one dealer card hidden)\n",
    "        show_some(player_hand,dealer_hand)  \n",
    "        \n",
    "        # If player's hand exceeds 21, run player_busts() and break out of loop\n",
    "        if player_busts(player_hand):\n",
    "            break\n",
    "\n",
    "    # If Player hasn't busted, play Dealer's hand until Dealer reaches 17\n",
    "    if not player_busts(player_hand):\n",
    "        while dealer_hand.value <= 17:\n",
    "            hit(dealer_hand,deck)\n",
    "\n",
    "    # Show all cards   \n",
    "    show_all(player_hand,dealer_hand)    \n",
    "\n",
    "    # Run different winning scenarios\n",
    "    if player_busts(player_hand) or dealer_wins(player_hand,dealer_hand):\n",
    "        player_chip.lose_bet()\n",
    "    elif dealer_busts(dealer_hand) or player_wins(player_hand,dealer_hand):\n",
    "        player_chip.win_bet()\n",
    "    else:\n",
    "        print(\"Error\")\n",
    "\n",
    "    # Inform Player of their chips total \n",
    "    print(f\"You now have {player_chip.total}$\")\n",
    "\n",
    "    # Ask to play again\n",
    "    user_input = input(\"Would you like to play again ? y/n\")\n",
    "    if user_input.lower() == 'y':\n",
    "        clear_output()\n",
    "        playing = True\n",
    "    else:\n",
    "        clear_output()\n",
    "        print(\"See you soon !\")\n",
    "        break\n",
    "    "
   ]
  },
  {
   "cell_type": "code",
   "execution_count": null,
   "metadata": {},
   "outputs": [],
   "source": []
  },
  {
   "cell_type": "code",
   "execution_count": null,
   "metadata": {},
   "outputs": [],
   "source": []
  }
 ],
 "metadata": {
  "kernelspec": {
   "display_name": "Python 3",
   "language": "python",
   "name": "python3"
  },
  "language_info": {
   "codemirror_mode": {
    "name": "ipython",
    "version": 3
   },
   "file_extension": ".py",
   "mimetype": "text/x-python",
   "name": "python",
   "nbconvert_exporter": "python",
   "pygments_lexer": "ipython3",
   "version": "3.7.6"
  }
 },
 "nbformat": 4,
 "nbformat_minor": 4
}
